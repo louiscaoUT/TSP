{
 "cells": [
  {
   "cell_type": "markdown",
   "metadata": {},
   "source": [
    "Libraries"
   ]
  },
  {
   "cell_type": "code",
   "execution_count": 1,
   "metadata": {},
   "outputs": [],
   "source": [
    "# importing required libraries\n",
    "import pandas as pd\n",
    "import numpy as np\n",
    "import gurobipy as gp\n",
    "import matplotlib.pyplot as plt\n",
    "%matplotlib inline\n",
    "from sklearn.cluster import KMeans\n",
    "from sklearn.preprocessing import StandardScaler\n",
    "import math\n"
   ]
  },
  {
   "cell_type": "markdown",
   "metadata": {},
   "source": [
    "K-Means Clustering"
   ]
  },
  {
   "cell_type": "code",
   "execution_count": 2,
   "metadata": {},
   "outputs": [],
   "source": [
    "def kcluster(csv):\n",
    "    # read csv\n",
    "    location=pd.read_csv(csv)\n",
    "    scaler = StandardScaler()\n",
    "    data_scaled = scaler.fit_transform(location)\n",
    "    # k means using 10 clusters and k-means++ initialization\n",
    "    kmeans = KMeans(n_clusters = 10, init='k-means++')\n",
    "    kmeans.fit(data_scaled)\n",
    "    return location, kmeans\n",
    "    \n",
    "\n",
    "# statistics of scaled data\n",
    "#pd.DataFrame(data_scaled).describe()"
   ]
  },
  {
   "cell_type": "markdown",
   "metadata": {},
   "source": [
    "Distance Function"
   ]
  },
  {
   "cell_type": "code",
   "execution_count": 3,
   "metadata": {},
   "outputs": [],
   "source": [
    "def get_dist(x1,y1,x2,y2):\n",
    "    return math.sqrt((x1-x2)**2 + (y1-y2)**2)"
   ]
  },
  {
   "cell_type": "markdown",
   "metadata": {},
   "source": [
    "Set up Distance Matrix"
   ]
  },
  {
   "cell_type": "code",
   "execution_count": 4,
   "metadata": {},
   "outputs": [],
   "source": [
    "# get (x,y) coordinates per cluster\n",
    "def get_clusters(location, kmeans):\n",
    "    clusters = [[(0,0)] for _ in range(10)] # init 10 clusters w/ distribution center attached\n",
    "    for i in range(len(kmeans.labels_)):\n",
    "        clusters[kmeans.labels_[i]].append(location.iloc[i])\n",
    "    return clusters # let n be the number of points in cluster i, function will return 10 clusters of size n comprised of (x,y) sorted in cluster"
   ]
  },
  {
   "cell_type": "code",
   "execution_count": 5,
   "metadata": {},
   "outputs": [],
   "source": [
    "# dist matrix\n",
    "def make_array(n, clusters):\n",
    "    # instead of making 501x501 dist matrix, we init an (N,N) matrix of the specific cluster whose TSP we're solving\n",
    "    array = [[0 for _ in range(len(clusters[n]))] for _ in range(len(clusters[n]))]\n",
    "    for i in range(len(clusters[n])):\n",
    "        for j in range(len(clusters[n])):\n",
    "            if i == j:\n",
    "                array[i][j] = 1e6 # deincentivize city going to itself\n",
    "            else:\n",
    "                x1,y1 = clusters[n][i]\n",
    "                x2,y2 = clusters[n][j]\n",
    "                array[i][j] = get_dist(x1,y1,x2,y2)\n",
    "    return array\n"
   ]
  },
  {
   "cell_type": "markdown",
   "metadata": {},
   "source": [
    "Get distance of a random path"
   ]
  },
  {
   "cell_type": "code",
   "execution_count": 6,
   "metadata": {},
   "outputs": [],
   "source": [
    "def get_dist_path(path): # can be used for clusters as well when simulated annealing\n",
    "    dist = 0 \n",
    "    for i in range(1, len(path)):\n",
    "        x1,y1 = path[i-1][0], path[i-1][1]\n",
    "        x2,y2 = path[i][0], path[i][1]\n",
    "        dist += get_dist(x1,y1,x2,y2)\n",
    "    # add dist from last node to beginning node\n",
    "    dist += get_dist(path[-1][0],path[-1][1],path[0][0],path[0][1])\n",
    "    return dist"
   ]
  },
  {
   "cell_type": "markdown",
   "metadata": {},
   "source": [
    "Get distance of the random clusters"
   ]
  },
  {
   "cell_type": "code",
   "execution_count": 7,
   "metadata": {},
   "outputs": [],
   "source": [
    "def get_dist_cluster(random_clusters):\n",
    "    dist = 0\n",
    "    for i in random_clusters:\n",
    "        dist += get_dist_path(i)\n",
    "    return dist"
   ]
  },
  {
   "cell_type": "markdown",
   "metadata": {},
   "source": [
    "Get square of a random cluster"
   ]
  },
  {
   "cell_type": "code",
   "execution_count": 8,
   "metadata": {},
   "outputs": [],
   "source": [
    "def get_square_cluster(random_clusters):\n",
    "    dist = 0\n",
    "    for i in random_clusters:\n",
    "        dist += get_dist_path(i)**2\n",
    "    return dist"
   ]
  },
  {
   "cell_type": "markdown",
   "metadata": {},
   "source": [
    "Putting it all together for TSP and Simulated Annealing"
   ]
  },
  {
   "cell_type": "code",
   "execution_count": 9,
   "metadata": {},
   "outputs": [],
   "source": [
    "def get_prereqs(csv):\n",
    "    location, kmeans = kcluster(csv)\n",
    "    clusters = get_clusters(location, kmeans)\n",
    "    cluster_map = pd.DataFrame()\n",
    "    cluster_map['data_index'] = location.index.values\n",
    "    cluster_map['cluster'] = kmeans.labels_\n",
    "\n",
    "    return clusters, location, kmeans, cluster_map"
   ]
  },
  {
   "cell_type": "markdown",
   "metadata": {},
   "source": [
    "TSP Template"
   ]
  },
  {
   "cell_type": "code",
   "execution_count": 10,
   "metadata": {},
   "outputs": [],
   "source": [
    "def tsp(n, clusters):\n",
    "    # distance matrix\n",
    "    array = make_array(n, clusters)\n",
    "    N = len(array)\n",
    "    # gurobi\n",
    "    model = gp.Model()\n",
    "    d = model.addMVar((N,N), vtype = 'B')\n",
    "    u = model.addMVar(N)\n",
    "    # obj\n",
    "    model.setObjective(gp.quicksum(d[i,j]*array[i][j] for i in range(N) for j in range(N)))\n",
    "    # cons\n",
    "    # leave each city once\n",
    "    leave = model.addConstrs((gp.quicksum(d[i,j] for i in range(N))==1) for j in range(N))\n",
    "    # enter each city once\n",
    "    enter = model.addConstrs((gp.quicksum(d[i,j] for j in range(N))==1) for i in range(N))\n",
    "    # u constraints\n",
    "    ucons = model.addConstrs((u[i] - u[j] + N*d[i,j] <= (N-1)) for i in range(1,N) for j in range(1,N) if i != j)\n",
    "    # get ans\n",
    "    model.Params.OutputFlag = 0 # tell gurobi to shut up!!\n",
    "    model.optimize()\n",
    "    return model.objVal"
   ]
  },
  {
   "cell_type": "markdown",
   "metadata": {},
   "source": [
    "Reverse Package Option"
   ]
  },
  {
   "cell_type": "code",
   "execution_count": 11,
   "metadata": {},
   "outputs": [],
   "source": [
    "def reverse_path(path):\n",
    "    start, end = np.random.choice(len(path), 2, replace = False)\n",
    "    if start < end:\n",
    "        change_path = np.array(path[start:end+1])[::-1]\n",
    "        new_path = np.concatenate((path[:start],change_path,path[end+1:]))\n",
    "    else:\n",
    "        change_path = np.concatenate((path[start:],path[:end+1]))[::-1]\n",
    "        new_path = np.concatenate((change_path,path[end+1:start]))\n",
    "\n",
    "    return new_path\n"
   ]
  },
  {
   "cell_type": "markdown",
   "metadata": {},
   "source": [
    "Transport Package Option"
   ]
  },
  {
   "cell_type": "code",
   "execution_count": 12,
   "metadata": {},
   "outputs": [],
   "source": [
    "def transport_path(path):\n",
    "    start, end = np.random.choice(len(path), 2, replace = False)\n",
    "    if start < end:\n",
    "        splice = np.array(path[start:end+1])\n",
    "        closed = np.concatenate((path[:start],path[end+1:]))\n",
    "    else:\n",
    "        splice = np.concatenate((path[start:],path[:end+1]))\n",
    "        closed = np.array(path[end+1:start])\n",
    "\n",
    "    N = len(closed)\n",
    "    if not N:\n",
    "        new_path = path\n",
    "    else:\n",
    "        choice = np.random.choice(N,1)[0]\n",
    "        new_path = np.concatenate((closed[0:(choice+1)],splice,closed[(choice+1):]), axis = 0)#,closed_path[(paste+1):])\n",
    "    \n",
    "    return new_path"
   ]
  },
  {
   "cell_type": "markdown",
   "metadata": {},
   "source": [
    "Get Random Clusters"
   ]
  },
  {
   "cell_type": "code",
   "execution_count": 13,
   "metadata": {},
   "outputs": [],
   "source": [
    "def get_random_clusters(n, random_path):\n",
    "    random_clusters = np.array_split(random_path, n)\n",
    "    for i in range(len(random_clusters)):\n",
    "        random_clusters[i] = np.concatenate(([(0,0)], random_clusters[i])) # add distribution to clusters\n",
    "    return random_clusters"
   ]
  },
  {
   "cell_type": "markdown",
   "metadata": {},
   "source": [
    "Switch Package Option"
   ]
  },
  {
   "cell_type": "code",
   "execution_count": 14,
   "metadata": {},
   "outputs": [],
   "source": [
    "def switch_path(random_clusters):\n",
    "    pick_truck, switch_truck = np.random.choice(len(random_clusters), 2, replace = False)\n",
    "    pick_package = switch_package = (0,0)\n",
    "\n",
    "    # can't pick the distribution center\n",
    "    while not(all(pick_package)) and not(all(switch_package)):\n",
    "        pick_package = np.random.choice(len(random_clusters[pick_truck]), 1)\n",
    "        switch_package = np.random.choice(len(random_clusters[switch_truck]), 1)\n",
    "    \n",
    "    # change cluster that had package transferred\n",
    "    package = random_clusters[pick_truck][pick_package]\n",
    "    # remove package from current route\n",
    "    random_clusters[pick_truck] = np.delete(random_clusters[pick_truck], pick_package, axis = 0)\n",
    "    # move package to truck and specified slot\n",
    "    random_clusters[switch_truck] = np.insert(random_clusters[switch_truck], switch_package, package, axis = 0)\n",
    "    return random_clusters"
   ]
  },
  {
   "cell_type": "markdown",
   "metadata": {},
   "source": [
    "Evaluate Path"
   ]
  },
  {
   "cell_type": "code",
   "execution_count": 15,
   "metadata": {},
   "outputs": [],
   "source": [
    "def eval_path_cluster(path, new_path, probability, probability_to_accept):\n",
    "    # init distances\n",
    "    best_dist = get_dist_path(path)\n",
    "    curr_dist = get_dist_path(new_path)\n",
    "\n",
    "    # if we get a worse path\n",
    "    if curr_dist > best_dist:\n",
    "        option = np.random.uniform(0,1,1)\n",
    "        # if we hit the prob to accept or lower we accept the worse path, else we keep (do nothing)\n",
    "        if option <= probability_to_accept:\n",
    "            # lower the probability to accept\n",
    "            probability_to_accept = probability/math.exp(curr_dist-best_dist)\n",
    "            best_dist = curr_dist\n",
    "            path = new_path\n",
    "    # we got a better path so we take\n",
    "    else:\n",
    "        best_dist = curr_dist\n",
    "        path = new_path\n",
    "\n",
    "    return best_dist, path, probability_to_accept"
   ]
  },
  {
   "cell_type": "markdown",
   "metadata": {},
   "source": [
    "Evaluate Path Square"
   ]
  },
  {
   "cell_type": "code",
   "execution_count": 16,
   "metadata": {},
   "outputs": [],
   "source": [
    "def eval_path_square(random_clusters, new_clusters, probability, probability_to_accept):\n",
    "    # init distances\n",
    "    best_dist = get_dist_cluster(random_clusters)\n",
    "    curr_dist = get_dist_cluster(new_clusters)\n",
    "    \n",
    "    # init squares\n",
    "    best_square = get_square_cluster(random_clusters)\n",
    "    curr_square = get_square_cluster(new_clusters)\n",
    "\n",
    "    # if we get a worse path\n",
    "    if curr_square > best_square:\n",
    "        option = np.random.uniform(0,1,1)\n",
    "        # if we hit the prob to accept or lower we accept the worse path, else we keep (do nothing)\n",
    "        if option <= probability_to_accept:\n",
    "            # lower the probability to accept\n",
    "            probability_to_accept = probability/math.exp(curr_dist-best_dist)\n",
    "            random_clusters = new_clusters\n",
    "    # we got a better path so we take\n",
    "    else:\n",
    "        random_clusters = new_clusters\n",
    "\n",
    "    return random_clusters, probability_to_accept"
   ]
  },
  {
   "cell_type": "markdown",
   "metadata": {},
   "source": [
    "2-Step Simulated Annealing Function"
   ]
  },
  {
   "cell_type": "code",
   "execution_count": 17,
   "metadata": {},
   "outputs": [],
   "source": [
    "def simulated_annealing_2_step(n, path):\n",
    "    # let n be the number of loops\n",
    "    # let path be a randomized path we initiated\n",
    "    \n",
    "    # init probability\n",
    "    probability = .95\n",
    "    probability_to_accept = .05\n",
    "    \n",
    "    \n",
    "    # best dist - inited with our randomized path\n",
    "    best_dist = get_dist_path(path)\n",
    "\n",
    "    # 2 step simulated annealing\n",
    "    for _ in range(n):\n",
    "        option = np.random.uniform(0,1,1)\n",
    "        # reverse option\n",
    "        if option <= .5:\n",
    "            new_path = reverse_path(path)\n",
    "        # transport option\n",
    "        else:\n",
    "            new_path = transport_path(path)\n",
    "            \n",
    "        # change best_dist accordingly\n",
    "        best_dist, path, probability_to_accept = eval_path_cluster(path, new_path, probability, probability_to_accept)\n",
    "        # change init probability\n",
    "        probability *= .99\n",
    "        \n",
    "        \n",
    "    \n",
    "    return best_dist\n",
    "\n",
    "            "
   ]
  },
  {
   "cell_type": "markdown",
   "metadata": {},
   "source": [
    "3-Step Annealing Function"
   ]
  },
  {
   "cell_type": "code",
   "execution_count": 18,
   "metadata": {},
   "outputs": [],
   "source": [
    "def simulated_annealing_3_step(n, random_clusters):\n",
    "    # let n be the number of loops\n",
    "    \n",
    "    # init probability\n",
    "    probability = .95\n",
    "    probability_to_accept = .05\n",
    "\n",
    "\n",
    "    # 3 step simulated annealing\n",
    "    for _ in range(n):\n",
    "        option = np.random.uniform(0,1,1)\n",
    "        cluster = np.random.choice(len(random_clusters),1)[0]\n",
    "        original = random_clusters.copy()\n",
    "    \n",
    "        # reverse option\n",
    "        if option <= .495:\n",
    "            random_clusters[cluster] = reverse_path(random_clusters[cluster])\n",
    "        # transport option\n",
    "        elif option <= .99:\n",
    "            random_clusters[cluster] = transport_path(random_clusters[cluster])\n",
    "        # switch option\n",
    "        else:\n",
    "            random_clusters = switch_path(random_clusters)\n",
    "\n",
    "        # change best square accordingly\n",
    "        random_clusters, probability_to_accept = eval_path_square(original, random_clusters, probability, probability_to_accept)\n",
    "        # change init probability\n",
    "        probability *= .99\n",
    "    \n",
    "    # get dist after minimizing squares\n",
    "    best_dist = get_dist_cluster(random_clusters)\n",
    "    return best_dist, [len(i) for i in random_clusters], [get_dist_path(i) for i in random_clusters]"
   ]
  },
  {
   "cell_type": "markdown",
   "metadata": {},
   "source": [
    "Cost Function"
   ]
  },
  {
   "cell_type": "code",
   "execution_count": 19,
   "metadata": {},
   "outputs": [],
   "source": [
    "def get_cost(dist, miles_per_truck):\n",
    "    cost_per_mile = dist\n",
    "    additional_pay = 300*len(miles_per_truck)\n",
    "    overtime = total_cost = 0\n",
    "    \n",
    "    # get overtime\n",
    "    for i in miles_per_truck:\n",
    "        average = sum(miles_per_truck)/len(miles_per_truck)\n",
    "        overtime_threshold = average*1.1\n",
    "        if i >= overtime_threshold:\n",
    "            overtime += (i-average)*1.5\n",
    "    \n",
    "    total_cost = cost_per_mile + additional_pay + overtime\n",
    "    return cost_per_mile, additional_pay, overtime, total_cost\n",
    "    "
   ]
  },
  {
   "cell_type": "markdown",
   "metadata": {},
   "source": [
    "Question 1 - Sole Clustering"
   ]
  },
  {
   "cell_type": "code",
   "execution_count": 20,
   "metadata": {},
   "outputs": [
    {
     "name": "stderr",
     "output_type": "stream",
     "text": [
      "/Library/Frameworks/Python.framework/Versions/3.10/lib/python3.10/site-packages/sklearn/cluster/_kmeans.py:1416: FutureWarning: The default value of `n_init` will change from 10 to 'auto' in 1.4. Set the value of `n_init` explicitly to suppress the warning\n",
      "  super()._check_params_vs_input(X, default_n_init=10)\n"
     ]
    }
   ],
   "source": [
    "# get prereqs for problems\n",
    "clusters, location1, kmeans, cluster_map = get_prereqs(\"locations1.csv\")"
   ]
  },
  {
   "cell_type": "code",
   "execution_count": 21,
   "metadata": {},
   "outputs": [
    {
     "data": {
      "image/png": "[encoded data removed]",
      "text/plain": [
       "<Figure size 1000x600 with 1 Axes>"
      ]
     },
     "metadata": {},
     "output_type": "display_data"
    }
   ],
   "source": [
    "# Get the cluster labels assigned by k-means\n",
    "cluster_labels = kmeans.labels_\n",
    "\n",
    "# Get the cluster centers\n",
    "cluster_centers = kmeans.cluster_centers_\n",
    "\n",
    "# Plot the data points with each cluster in a different color\n",
    "plt.figure(figsize=(10, 6))\n",
    "\n",
    "for i in range(10):\n",
    "    plt.scatter(location1.iloc[cluster_labels == i, 0], location1.iloc[cluster_labels == i, 1], label=f'Cluster {i}')\n",
    "\n",
    "\n",
    "plt.title(\"K-Means Clustering\")\n",
    "plt.xlabel(\"X Coordinate\")\n",
    "plt.ylabel(\"Y Coordinate\")\n",
    "plt.legend()\n",
    "plt.show()"
   ]
  },
  {
   "cell_type": "markdown",
   "metadata": {},
   "source": [
    "Question 1 - TSP"
   ]
  },
  {
   "cell_type": "code",
   "execution_count": 22,
   "metadata": {},
   "outputs": [
    {
     "name": "stdout",
     "output_type": "stream",
     "text": [
      "Set parameter Username\n",
      "Academic license - for non-commercial use only - expires 2024-09-18\n"
     ]
    },
    {
     "data": {
      "text/plain": [
       "65.68321844161055"
      ]
     },
     "execution_count": 22,
     "metadata": {},
     "output_type": "execute_result"
    }
   ],
   "source": [
    "def q1_tsp(clusters):\n",
    "    total = 0\n",
    "    for i in range(10):\n",
    "        total += tsp(i, clusters)\n",
    "    return total\n",
    "\n",
    "dist = q1_tsp(clusters)\n",
    "dist # 65.35914774493456"
   ]
  },
  {
   "cell_type": "markdown",
   "metadata": {},
   "source": [
    "Question 1 - 2 Step Simluated Annealing"
   ]
  },
  {
   "cell_type": "code",
   "execution_count": null,
   "metadata": {},
   "outputs": [],
   "source": [
    "def q1_2_step():\n",
    "    \n",
    "    random_path = np.concatenate(([(0,0)],[location1.iloc[i] for i in range(location1.shape[0])]))\n",
    "    np.random.shuffle(random_path)\n",
    "\n",
    "    dist = simulated_annealing_2_step(int(4e5), random_path)\n",
    "    return dist\n",
    "\n",
    "dist = q1_2_step()\n",
    "dist # 57.37433203209507"
   ]
  },
  {
   "cell_type": "markdown",
   "metadata": {},
   "source": [
    "Question 1 - 3 Step Annealing"
   ]
  },
  {
   "cell_type": "code",
   "execution_count": null,
   "metadata": {},
   "outputs": [],
   "source": [
    "def q1_3_step():\n",
    "    random_path = np.array([location1.iloc[i] for i in range(location1.shape[0])])\n",
    "    np.random.shuffle(random_path)\n",
    "    random_clusters = get_random_clusters(10,random_path)\n",
    "    dist, package_per_truck, miles_per_truck = simulated_annealing_3_step(int(1e5), random_clusters)\n",
    "    return dist, package_per_truck\n",
    "\n",
    "dist, package_per_truck = q1_3_step()\n",
    "dist, package_per_truck"
   ]
  },
  {
   "cell_type": "markdown",
   "metadata": {},
   "source": [
    "Question 2 Factoring in Costs"
   ]
  },
  {
   "cell_type": "code",
   "execution_count": null,
   "metadata": {},
   "outputs": [],
   "source": [
    "def costs_3_step():\n",
    "    # init random path\n",
    "    random_path = np.array([location1.iloc[i] for i in range(location1.shape[0])])\n",
    "    np.random.shuffle(random_path)\n",
    "    \n",
    "    for i in range(2,11):\n",
    "        # init random clusters\n",
    "        if i == 1:\n",
    "            random_clusters = random_path\n",
    "        else:\n",
    "            random_clusters = list(get_random_clusters(i, random_path))\n",
    "        dist, package_per_truck, miles_per_truck = simulated_annealing_3_step(int(1e5), random_clusters)\n",
    "        cost_per_package, additional_pay, overtime, total_cost = get_cost(dist, miles_per_truck)\n",
    "        print(f'distance: {dist} | number of packages delivered:\" {package_per_truck} | miles per truck: {miles_per_truck} | cost per mile: {cost_per_package} | additional pay: {additional_pay} | overtime: {overtime} | total cost: {total_cost}')\n",
    "\n",
    "costs_3_step()"
   ]
  },
  {
   "cell_type": "markdown",
   "metadata": {},
   "source": [
    "Question 3 - Location 2 TSP From Scratch"
   ]
  },
  {
   "cell_type": "code",
   "execution_count": null,
   "metadata": {},
   "outputs": [],
   "source": [
    "clusters, location2, kmeans, cluster_map = get_prereqs(\"locations2.csv\")"
   ]
  },
  {
   "cell_type": "code",
   "execution_count": null,
   "metadata": {},
   "outputs": [],
   "source": [
    "def q3_tsp(clusters):\n",
    "    total = 0\n",
    "    for i in range(10):\n",
    "        total += tsp(i, clusters)\n",
    "    return total\n",
    "\n",
    "dist = q3_tsp(clusters)\n",
    "dist # 65.35914774493456"
   ]
  },
  {
   "cell_type": "code",
   "execution_count": null,
   "metadata": {},
   "outputs": [],
   "source": [
    "# Get the cluster labels assigned by k-means\n",
    "cluster_labels = kmeans.labels_\n",
    "\n",
    "# Get the cluster centers\n",
    "cluster_centers = kmeans.cluster_centers_\n",
    "\n",
    "# Plot the data points with each cluster in a different color\n",
    "plt.figure(figsize=(10, 6))\n",
    "\n",
    "for i in range(10):\n",
    "    plt.scatter(location2.iloc[cluster_labels == i, 0], location2.iloc[cluster_labels == i, 1], label=f'Cluster {i}')\n",
    "\n",
    "\n",
    "plt.title(\"K-Means Clustering\")\n",
    "plt.xlabel(\"X Coordinate\")\n",
    "plt.ylabel(\"Y Coordinate\")\n",
    "plt.legend()\n",
    "plt.show()"
   ]
  },
  {
   "cell_type": "code",
   "execution_count": null,
   "metadata": {},
   "outputs": [],
   "source": [
    "def q3_2_step():\n",
    "    random_path = np.concatenate(([(0,0)],[location2.iloc[i] for i in range(location2.shape[0])]))\n",
    "    np.random.shuffle(random_path)\n",
    "\n",
    "    dist = simulated_annealing_2_step(int(4e5), random_path)\n",
    "    return dist\n",
    "\n",
    "q3_2_step()\n"
   ]
  },
  {
   "cell_type": "markdown",
   "metadata": {},
   "source": [
    "Question 3 - Using Yesterday's Clustering"
   ]
  },
  {
   "cell_type": "code",
   "execution_count": null,
   "metadata": {},
   "outputs": [],
   "source": [
    "# get prereqs\n",
    "clusters, location, kmeans, cluster_map = get_prereqs(\"locations1.csv\")\n",
    "kmeans.labels_"
   ]
  },
  {
   "cell_type": "code",
   "execution_count": null,
   "metadata": {},
   "outputs": [],
   "source": [
    "df1 = pd.read_csv('locations1.csv')\n",
    "df2 = pd.read_csv('locations2.csv')\n",
    "\n",
    "def calculate_distance(df1, df2):\n",
    "    distances = []\n",
    "\n",
    "    for index1, row1 in df1.iterrows():\n",
    "        for index2, row2 in df2.iterrows():\n",
    "            x1, y1 = row1['x'], row1['y']\n",
    "            x2, y2 = row2['x'], row2['y']\n",
    "            distance = math.sqrt((x1 - x2) ** 2 + (y1 - y2) ** 2)\n",
    "            distances.append({'df2_x': x2, 'df2_y': y2, 'df1_x': x1, 'df1_y': y1, 'distance': distance})\n",
    "\n",
    "    result_df = pd.DataFrame(distances)\n",
    "    result_df['Loc2_ID'] = result_df.groupby(['df2_x', 'df2_y']).ngroup().apply(lambda x: f'{x:03d}')\n",
    "    result_df['Loc1_ID'] = result_df.groupby(['df1_x', 'df1_y']).ngroup().apply(lambda x: f'{x:03d}')\n",
    "\n",
    "    return result_df\n",
    "\n",
    "result = calculate_distance(df1, df2)\n",
    "result['df2_coordinates'] = result.apply(lambda row: f\"({round(row['df2_x'], 4)},{round(row['df2_y'], 4)})\", axis=1)\n",
    "result['df1_coordinates'] = result.apply(lambda row: f\"({round(row['df1_x'], 4)},{round(row['df1_y'], 4)})\", axis=1)\n",
    "result = result.drop(columns=['df2_x', 'df2_y', 'df1_x', 'df1_y'])\n",
    "\n",
    "result.sort_values(by='distance')\n",
    "min_distances = result.sort_values(by='distance')\n",
    "smallest_distances_df1 = min_distances.groupby('Loc2_ID').first().reset_index()\n",
    "smallest_df2_for_df1 = smallest_distances_df1[['Loc2_ID', 'Loc1_ID']]\n",
    "smallest_df2_for_df1_array = smallest_df2_for_df1.values"
   ]
  },
  {
   "cell_type": "code",
   "execution_count": null,
   "metadata": {},
   "outputs": [],
   "source": [
    "# get prereqs for problems\n",
    "# get (x,y) coordinates per cluster\n",
    "def get_clusters(location, kmeans, map):\n",
    "    clusters = [[(0,0)] for _ in range(10)] # init 10 clusters w/ distribution center attached\n",
    "    for i in range(location.shape[0]):\n",
    "        clusters[kmeans.labels_[int(map[i][1])]].append(location.iloc[i])\n",
    "    return clusters # let n be the number of points in cluster i, function will return 10 clusters of size n comprised of (x,y) sorted in cluster\n",
    "\n",
    "locations2 = pd.read_csv(\"locations2.csv\")\n",
    "clusters_2 = get_clusters(locations2, kmeans, smallest_df2_for_df1_array)\n"
   ]
  },
  {
   "cell_type": "code",
   "execution_count": null,
   "metadata": {},
   "outputs": [],
   "source": [
    "def q3_3_step(clusters):\n",
    "    dist, package_per_truck, miles_per_truck = simulated_annealing_3_step(int(1e5), clusters)\n",
    "    cost_per_package, additional_pay, overtime, total_cost = get_cost(dist, miles_per_truck)\n",
    "    print(f'distance: {dist} | number of packages delivered:\" {package_per_truck} | miles per truck: {miles_per_truck} | cost per mile: {cost_per_package} | additional pay: {additional_pay} | overtime: {overtime} | total cost: {total_cost}')\n",
    "    return dist, package_per_truck, miles_per_truck\n",
    "\n",
    "dist, package_per_truck, miles_per_truck = q3_3_step(clusters_2)\n",
    "dist, package_per_truck, miles_per_truck"
   ]
  }
 ],
 "metadata": {
  "kernelspec": {
   "display_name": "Python 3",
   "language": "python",
   "name": "python3"
  },
  "language_info": {
   "codemirror_mode": {
    "name": "ipython",
    "version": 3
   },
   "file_extension": ".py",
   "mimetype": "text/x-python",
   "name": "python",
   "nbconvert_exporter": "python",
   "pygments_lexer": "ipython3",
   "version": "3.10.7"
  }
 },
 "nbformat": 4,
 "nbformat_minor": 2
}
